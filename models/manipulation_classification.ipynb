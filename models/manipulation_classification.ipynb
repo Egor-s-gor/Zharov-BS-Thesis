{
  "cells": [
    {
      "cell_type": "code",
      "execution_count": null,
      "metadata": {
        "id": "-MfnypX1NMMx"
      },
      "outputs": [],
      "source": [
        "!pip install transformers"
      ]
    },
    {
      "cell_type": "code",
      "execution_count": null,
      "metadata": {
        "id": "GkAwjzrtAcdN"
      },
      "outputs": [],
      "source": [
        "import pandas as pd\n",
        "import numpy as np\n",
        "from tqdm import tqdm\n",
        "import matplotlib.pyplot as plt\n",
        "from sklearn.model_selection import train_test_split\n",
        "import torch\n",
        "from transformers import BertTokenizer\n",
        "from torch.utils.data import TensorDataset, DataLoader, RandomSampler, SequentialSampler"
      ]
    },
    {
      "cell_type": "code",
      "execution_count": null,
      "metadata": {
        "id": "6vCDC4J-ALxM"
      },
      "outputs": [],
      "source": [
        "markup = pd.read_json('/content/drive/MyDrive/manipulation_markup/markup_final.json', lines=True)"
      ]
    },
    {
      "cell_type": "markdown",
      "metadata": {
        "id": "U4_4jINxBuX7"
      },
      "source": [
        "##DATASET"
      ]
    },
    {
      "cell_type": "code",
      "execution_count": null,
      "metadata": {
        "id": "G6Bu6qihAkok"
      },
      "outputs": [],
      "source": [
        "manipulations = []\n",
        "man_label = []\n",
        "\n",
        "for i in range(len(markup)):\n",
        "  text = markup['input_input'].iloc[i]\n",
        "  for man in markup['output_result'].iloc[i]:\n",
        "    manipulations.append(text[man['start']:man['end']+1])\n",
        "    man_label.append(man['class_name'])\n",
        "\n",
        "\n",
        "man_dataframe = pd.DataFrame()\n",
        "man_dataframe['manipulation'] = pd.Series(manipulations)\n",
        "man_dataframe['label'] = pd.Series(man_label)"
      ]
    },
    {
      "cell_type": "code",
      "execution_count": null,
      "metadata": {
        "colab": {
          "base_uri": "https://localhost:8080/"
        },
        "id": "FOng6QawEy09",
        "outputId": "1587ebdd-296b-4002-9786-ca6d82fa7a15"
      },
      "outputs": [
        {
          "data": {
            "text/plain": [
              "9795"
            ]
          },
          "execution_count": 5,
          "metadata": {},
          "output_type": "execute_result"
        }
      ],
      "source": [
        "len(man_dataframe)"
      ]
    },
    {
      "cell_type": "code",
      "execution_count": null,
      "metadata": {
        "id": "NNs3cB_wDk-l"
      },
      "outputs": [],
      "source": [
        "labels = man_dataframe['label'].unique()\n",
        "label_ids = []\n",
        "for i in range(len(man_dataframe)):\n",
        "  for j, label_name in enumerate(labels):\n",
        "    if man_dataframe['label'].iloc[i] == label_name:\n",
        "      label_ids.append(j)\n",
        "\n",
        "man_dataframe['label_id'] = pd.Series(label_ids)"
      ]
    },
    {
      "cell_type": "code",
      "execution_count": null,
      "metadata": {
        "id": "fJwMk56NpNQn"
      },
      "outputs": [],
      "source": [
        "import re"
      ]
    },
    {
      "cell_type": "code",
      "execution_count": null,
      "metadata": {
        "id": "L675IYB0q6UU"
      },
      "outputs": [],
      "source": [
        "big_label = []\n",
        "for i in range(len(man_dataframe)):\n",
        "  big_label.append(re.search('\\(\\S+\\)', man_dataframe['label'].iloc[i]).group(0))\n",
        "\n",
        "man_dataframe['big_label'] = pd.Series(big_label)\n",
        "\n",
        "big_labels = man_dataframe['big_label'].unique()\n",
        "big_label_ids = []\n",
        "for i in range(len(man_dataframe)):\n",
        "  for j, big_label_name in enumerate(big_labels):\n",
        "    if man_dataframe['big_label'].iloc[i] == big_label_name:\n",
        "      big_label_ids.append(j)\n",
        "\n",
        "man_dataframe['big_label_id'] = pd.Series(big_label_ids)\n"
      ]
    },
    {
      "cell_type": "code",
      "execution_count": null,
      "metadata": {
        "colab": {
          "base_uri": "https://localhost:8080/",
          "height": 423
        },
        "id": "K0w9tupSGMfB",
        "outputId": "0bdc2f5d-c43a-4712-83b0-b785ab12accc"
      },
      "outputs": [
        {
          "data": {
            "text/html": [
              "\n",
              "  <div id=\"df-0e454d91-3b04-4cde-8558-3d49e8637d07\">\n",
              "    <div class=\"colab-df-container\">\n",
              "      <div>\n",
              "<style scoped>\n",
              "    .dataframe tbody tr th:only-of-type {\n",
              "        vertical-align: middle;\n",
              "    }\n",
              "\n",
              "    .dataframe tbody tr th {\n",
              "        vertical-align: top;\n",
              "    }\n",
              "\n",
              "    .dataframe thead th {\n",
              "        text-align: right;\n",
              "    }\n",
              "</style>\n",
              "<table border=\"1\" class=\"dataframe\">\n",
              "  <thead>\n",
              "    <tr style=\"text-align: right;\">\n",
              "      <th></th>\n",
              "      <th>manipulation</th>\n",
              "      <th>label</th>\n",
              "      <th>label_id</th>\n",
              "      <th>big_label</th>\n",
              "      <th>big_label_id</th>\n",
              "    </tr>\n",
              "  </thead>\n",
              "  <tbody>\n",
              "    <tr>\n",
              "      <th>0</th>\n",
              "      <td>Переговоры лидеров Р</td>\n",
              "      <td>Прием маскировки под ссылку на авторитет (деав...</td>\n",
              "      <td>0</td>\n",
              "      <td>(деавторизация)</td>\n",
              "      <td>0</td>\n",
              "    </tr>\n",
              "    <tr>\n",
              "      <th>1</th>\n",
              "      <td></td>\n",
              "      <td>Прием маскировки под ссылку на авторитет (деав...</td>\n",
              "      <td>0</td>\n",
              "      <td>(деавторизация)</td>\n",
              "      <td>0</td>\n",
              "    </tr>\n",
              "    <tr>\n",
              "      <th>2</th>\n",
              "      <td>асштабности, но и по уровню оснащенности медиц...</td>\n",
              "      <td>Позитивирующая гиперболизация (позитивизация)</td>\n",
              "      <td>1</td>\n",
              "      <td>(позитивизация)</td>\n",
              "      <td>1</td>\n",
              "    </tr>\n",
              "    <tr>\n",
              "      <th>3</th>\n",
              "      <td>азания медицинской помощи</td>\n",
              "      <td>Лозунговые слова и словосочетания (позитивизация)</td>\n",
              "      <td>2</td>\n",
              "      <td>(позитивизация)</td>\n",
              "      <td>1</td>\n",
              "    </tr>\n",
              "    <tr>\n",
              "      <th>4</th>\n",
              "      <td>тчислений могут получить россияне «После индек...</td>\n",
              "      <td>Прием «после этого не значит поэтому» (паралог...</td>\n",
              "      <td>3</td>\n",
              "      <td>(паралогизация)</td>\n",
              "      <td>2</td>\n",
              "    </tr>\n",
              "    <tr>\n",
              "      <th>...</th>\n",
              "      <td>...</td>\n",
              "      <td>...</td>\n",
              "      <td>...</td>\n",
              "      <td>...</td>\n",
              "      <td>...</td>\n",
              "    </tr>\n",
              "    <tr>\n",
              "      <th>9790</th>\n",
              "      <td>сковский гарнизонный военный суд приговорил фи...</td>\n",
              "      <td>Вкрапление депрессивов (негативизация)</td>\n",
              "      <td>15</td>\n",
              "      <td>(негативизация)</td>\n",
              "      <td>3</td>\n",
              "    </tr>\n",
              "    <tr>\n",
              "      <th>9791</th>\n",
              "      <td>начала года в Альметьевском районе произошло 7...</td>\n",
              "      <td>Вкрапление депрессивов (негативизация)</td>\n",
              "      <td>15</td>\n",
              "      <td>(негативизация)</td>\n",
              "      <td>3</td>\n",
              "    </tr>\n",
              "    <tr>\n",
              "      <th>9792</th>\n",
              "      <td>С начала года на территории Альметьевского рай...</td>\n",
              "      <td>Вкрапление депрессивов (негативизация)</td>\n",
              "      <td>15</td>\n",
              "      <td>(негативизация)</td>\n",
              "      <td>3</td>\n",
              "    </tr>\n",
              "    <tr>\n",
              "      <th>9793</th>\n",
              "      <td>В них погибло 10 человек, еще 14 получили ране...</td>\n",
              "      <td>Вкрапление депрессивов (негативизация)</td>\n",
              "      <td>15</td>\n",
              "      <td>(негативизация)</td>\n",
              "      <td>3</td>\n",
              "    </tr>\n",
              "    <tr>\n",
              "      <th>9794</th>\n",
              "      <td>Выезд на встречную полосу при совершении обгон...</td>\n",
              "      <td>Прием маскировки под ссылку на авторитет (деав...</td>\n",
              "      <td>0</td>\n",
              "      <td>(деавторизация)</td>\n",
              "      <td>0</td>\n",
              "    </tr>\n",
              "  </tbody>\n",
              "</table>\n",
              "<p>9795 rows × 5 columns</p>\n",
              "</div>\n",
              "      <button class=\"colab-df-convert\" onclick=\"convertToInteractive('df-0e454d91-3b04-4cde-8558-3d49e8637d07')\"\n",
              "              title=\"Convert this dataframe to an interactive table.\"\n",
              "              style=\"display:none;\">\n",
              "        \n",
              "  <svg xmlns=\"http://www.w3.org/2000/svg\" height=\"24px\"viewBox=\"0 0 24 24\"\n",
              "       width=\"24px\">\n",
              "    <path d=\"M0 0h24v24H0V0z\" fill=\"none\"/>\n",
              "    <path d=\"M18.56 5.44l.94 2.06.94-2.06 2.06-.94-2.06-.94-.94-2.06-.94 2.06-2.06.94zm-11 1L8.5 8.5l.94-2.06 2.06-.94-2.06-.94L8.5 2.5l-.94 2.06-2.06.94zm10 10l.94 2.06.94-2.06 2.06-.94-2.06-.94-.94-2.06-.94 2.06-2.06.94z\"/><path d=\"M17.41 7.96l-1.37-1.37c-.4-.4-.92-.59-1.43-.59-.52 0-1.04.2-1.43.59L10.3 9.45l-7.72 7.72c-.78.78-.78 2.05 0 2.83L4 21.41c.39.39.9.59 1.41.59.51 0 1.02-.2 1.41-.59l7.78-7.78 2.81-2.81c.8-.78.8-2.07 0-2.86zM5.41 20L4 18.59l7.72-7.72 1.47 1.35L5.41 20z\"/>\n",
              "  </svg>\n",
              "      </button>\n",
              "      \n",
              "  <style>\n",
              "    .colab-df-container {\n",
              "      display:flex;\n",
              "      flex-wrap:wrap;\n",
              "      gap: 12px;\n",
              "    }\n",
              "\n",
              "    .colab-df-convert {\n",
              "      background-color: #E8F0FE;\n",
              "      border: none;\n",
              "      border-radius: 50%;\n",
              "      cursor: pointer;\n",
              "      display: none;\n",
              "      fill: #1967D2;\n",
              "      height: 32px;\n",
              "      padding: 0 0 0 0;\n",
              "      width: 32px;\n",
              "    }\n",
              "\n",
              "    .colab-df-convert:hover {\n",
              "      background-color: #E2EBFA;\n",
              "      box-shadow: 0px 1px 2px rgba(60, 64, 67, 0.3), 0px 1px 3px 1px rgba(60, 64, 67, 0.15);\n",
              "      fill: #174EA6;\n",
              "    }\n",
              "\n",
              "    [theme=dark] .colab-df-convert {\n",
              "      background-color: #3B4455;\n",
              "      fill: #D2E3FC;\n",
              "    }\n",
              "\n",
              "    [theme=dark] .colab-df-convert:hover {\n",
              "      background-color: #434B5C;\n",
              "      box-shadow: 0px 1px 3px 1px rgba(0, 0, 0, 0.15);\n",
              "      filter: drop-shadow(0px 1px 2px rgba(0, 0, 0, 0.3));\n",
              "      fill: #FFFFFF;\n",
              "    }\n",
              "  </style>\n",
              "\n",
              "      <script>\n",
              "        const buttonEl =\n",
              "          document.querySelector('#df-0e454d91-3b04-4cde-8558-3d49e8637d07 button.colab-df-convert');\n",
              "        buttonEl.style.display =\n",
              "          google.colab.kernel.accessAllowed ? 'block' : 'none';\n",
              "\n",
              "        async function convertToInteractive(key) {\n",
              "          const element = document.querySelector('#df-0e454d91-3b04-4cde-8558-3d49e8637d07');\n",
              "          const dataTable =\n",
              "            await google.colab.kernel.invokeFunction('convertToInteractive',\n",
              "                                                     [key], {});\n",
              "          if (!dataTable) return;\n",
              "\n",
              "          const docLinkHtml = 'Like what you see? Visit the ' +\n",
              "            '<a target=\"_blank\" href=https://colab.research.google.com/notebooks/data_table.ipynb>data table notebook</a>'\n",
              "            + ' to learn more about interactive tables.';\n",
              "          element.innerHTML = '';\n",
              "          dataTable['output_type'] = 'display_data';\n",
              "          await google.colab.output.renderOutput(dataTable, element);\n",
              "          const docLink = document.createElement('div');\n",
              "          docLink.innerHTML = docLinkHtml;\n",
              "          element.appendChild(docLink);\n",
              "        }\n",
              "      </script>\n",
              "    </div>\n",
              "  </div>\n",
              "  "
            ],
            "text/plain": [
              "                                           manipulation  \\\n",
              "0                                  Переговоры лидеров Р   \n",
              "1                                                         \n",
              "2     асштабности, но и по уровню оснащенности медиц...   \n",
              "3                             азания медицинской помощи   \n",
              "4     тчислений могут получить россияне «После индек...   \n",
              "...                                                 ...   \n",
              "9790  сковский гарнизонный военный суд приговорил фи...   \n",
              "9791  начала года в Альметьевском районе произошло 7...   \n",
              "9792  С начала года на территории Альметьевского рай...   \n",
              "9793  В них погибло 10 человек, еще 14 получили ране...   \n",
              "9794  Выезд на встречную полосу при совершении обгон...   \n",
              "\n",
              "                                                  label  label_id  \\\n",
              "0     Прием маскировки под ссылку на авторитет (деав...         0   \n",
              "1     Прием маскировки под ссылку на авторитет (деав...         0   \n",
              "2         Позитивирующая гиперболизация (позитивизация)         1   \n",
              "3     Лозунговые слова и словосочетания (позитивизация)         2   \n",
              "4     Прием «после этого не значит поэтому» (паралог...         3   \n",
              "...                                                 ...       ...   \n",
              "9790             Вкрапление депрессивов (негативизация)        15   \n",
              "9791             Вкрапление депрессивов (негативизация)        15   \n",
              "9792             Вкрапление депрессивов (негативизация)        15   \n",
              "9793             Вкрапление депрессивов (негативизация)        15   \n",
              "9794  Прием маскировки под ссылку на авторитет (деав...         0   \n",
              "\n",
              "            big_label  big_label_id  \n",
              "0     (деавторизация)             0  \n",
              "1     (деавторизация)             0  \n",
              "2     (позитивизация)             1  \n",
              "3     (позитивизация)             1  \n",
              "4     (паралогизация)             2  \n",
              "...               ...           ...  \n",
              "9790  (негативизация)             3  \n",
              "9791  (негативизация)             3  \n",
              "9792  (негативизация)             3  \n",
              "9793  (негативизация)             3  \n",
              "9794  (деавторизация)             0  \n",
              "\n",
              "[9795 rows x 5 columns]"
            ]
          },
          "execution_count": 9,
          "metadata": {},
          "output_type": "execute_result"
        }
      ],
      "source": [
        "man_dataframe"
      ]
    },
    {
      "cell_type": "code",
      "execution_count": null,
      "metadata": {
        "colab": {
          "base_uri": "https://localhost:8080/"
        },
        "id": "rIZQatcPRXt5",
        "outputId": "ac1237d5-521c-48c7-961d-05512d092444"
      },
      "outputs": [
        {
          "data": {
            "text/plain": [
              "array(['Прием маскировки под ссылку на авторитет (деавторизация)',\n",
              "       'Позитивирующая гиперболизация (позитивизация)',\n",
              "       'Лозунговые слова и словосочетания (позитивизация)',\n",
              "       'Прием «после этого не значит поэтому» (паралогизация)',\n",
              "       'Прием моделирования негативного сценария (негативизация)',\n",
              "       'Эвфемизация (позитивизация)',\n",
              "       'Навешивание ярлыков (негативизация)',\n",
              "       'Ссылки на неопределенный источник (деавторизация)',\n",
              "       'Подмена тезиса (паралогизация)', 'Дисфемизмы (негативизация)',\n",
              "       'Ложное причинно-следственное моделирование (паралогизация)',\n",
              "       'Негативирующая гиперболизация (негативизация)',\n",
              "       'Прием обесценивания (негативизация)',\n",
              "       'Ссылки на свидетельства участников и очевидцев событий, имена и фамилии которых не называются (деавторизация)',\n",
              "       'Высказывание о состоянии другого (паралогизация)',\n",
              "       'Вкрапление депрессивов (негативизация)',\n",
              "       'Поставка мишени в один ряд с негативно оцениваемым объектом (негативизация)',\n",
              "       'Антифразис (негативизация)'], dtype=object)"
            ]
          },
          "execution_count": 10,
          "metadata": {},
          "output_type": "execute_result"
        }
      ],
      "source": [
        "man_dataframe['label'].unique()"
      ]
    },
    {
      "cell_type": "code",
      "execution_count": null,
      "metadata": {
        "colab": {
          "base_uri": "https://localhost:8080/",
          "height": 452
        },
        "id": "8DSiUNdtDn_F",
        "outputId": "66dc8ad3-8902-42ed-96bc-c602bb427a47"
      },
      "outputs": [
        {
          "data": {
            "image/png": "[encoded data removed]",
            "text/plain": [
              "<Figure size 640x480 with 1 Axes>"
            ]
          },
          "metadata": {},
          "output_type": "display_data"
        }
      ],
      "source": [
        "ids = man_dataframe.groupby(['label_id']).count().index\n",
        "groups = [str(idx) for idx in ids]\n",
        "counts = man_dataframe.groupby(['label_id']).count()['label']\n",
        "\n",
        "plt.bar(groups, counts)\n",
        "plt.title('Распределение всех классов')\n",
        "plt.show()"
      ]
    },
    {
      "cell_type": "code",
      "execution_count": null,
      "metadata": {
        "colab": {
          "base_uri": "https://localhost:8080/",
          "height": 452
        },
        "id": "_TMXizY3tbYM",
        "outputId": "40af8faa-f176-4d63-e113-748953e62326"
      },
      "outputs": [
        {
          "data": {
            "image/png": "[encoded data removed]",
            "text/plain": [
              "<Figure size 640x480 with 1 Axes>"
            ]
          },
          "metadata": {},
          "output_type": "display_data"
        }
      ],
      "source": [
        "ids = man_dataframe.groupby(['big_label_id']).count().index\n",
        "groups = [str(idx) for idx in ids]\n",
        "counts = man_dataframe.groupby(['big_label_id']).count()['big_label']\n",
        "\n",
        "plt.bar(groups, counts)\n",
        "plt.title('Распределение всех классов')\n",
        "plt.show()"
      ]
    },
    {
      "cell_type": "code",
      "execution_count": null,
      "metadata": {
        "id": "ainkfBroHsLm"
      },
      "outputs": [],
      "source": [
        "class_counts = man_dataframe.groupby(['label_id']).count()['label'].values\n",
        "data_len = class_counts.sum()\n",
        "class_weights = [float(num/data_len) if num>500 else 1.0 for num in class_counts]\n",
        "\n",
        "big_class_counts = man_dataframe.groupby(['big_label_id']).count()['big_label'].values\n",
        "big_class_weights = [float(num/data_len) if num>500 else 1.0 for num in big_class_counts]"
      ]
    },
    {
      "cell_type": "code",
      "execution_count": null,
      "metadata": {
        "colab": {
          "base_uri": "https://localhost:8080/",
          "height": 1000
        },
        "id": "RxwsiYHxGBIA",
        "outputId": "b09a9aec-e1b8-445e-ff22-63e04c76e3f6"
      },
      "outputs": [
        {
          "data": {
            "image/png": "[encoded data removed]",
            "text/plain": [
              "<Figure size 1500x2000 with 1 Axes>"
            ]
          },
          "metadata": {},
          "output_type": "display_data"
        }
      ],
      "source": [
        "vals = counts\n",
        "labels = groups\n",
        "fig, ax = plt.subplots()\n",
        "ax.pie(vals, labels=labels)\n",
        "fig.set_size_inches(15, 20)\n",
        "plt.show()"
      ]
    },
    {
      "cell_type": "markdown",
      "metadata": {
        "id": "LFlFoZTB6Gw2"
      },
      "source": [
        "##Eng data"
      ]
    },
    {
      "cell_type": "code",
      "execution_count": null,
      "metadata": {
        "id": "ESoa_rI06K-w"
      },
      "outputs": [],
      "source": [
        "import os\n",
        "import re"
      ]
    },
    {
      "cell_type": "code",
      "execution_count": null,
      "metadata": {
        "id": "rMMUVS0Z6LXl"
      },
      "outputs": [],
      "source": [
        "eng_man_dataframe = pd.DataFrame()\n",
        "eng_label = []\n",
        "eng_man = []\n",
        "\n",
        "for filename in os.listdir('/content/drive/MyDrive/eng_data/train'):\n",
        "  if filename.endswith('.tsv'):\n",
        "    idx = re.search('\\d+', filename).group(0)\n",
        "    text  = open(f'/content/drive/MyDrive/eng_data/train/article{idx}.txt', 'r').read()\n",
        "    try:\n",
        "      spans = pd.read_table(f'/content/drive/MyDrive/eng_data/train/{filename}', header=None)\n",
        "    except:\n",
        "      continue\n",
        "\n",
        "    for i in range(len(spans)):\n",
        "      eng_man.append(text[spans[2].iloc[i]:spans[3].iloc[i]+1])\n",
        "      eng_label.append(spans[1].iloc[i])\n",
        "\n",
        "eng_man_dataframe['manipulation'] = pd.Series(eng_man)\n",
        "eng_man_dataframe['label'] = pd.Series(eng_label)"
      ]
    },
    {
      "cell_type": "code",
      "execution_count": null,
      "metadata": {
        "id": "NSngYbGZDprQ"
      },
      "outputs": [],
      "source": [
        "labels = eng_man_dataframe['label'].unique()\n",
        "label_ids = []\n",
        "for i in range(len(eng_man_dataframe)):\n",
        "  for j, label_name in enumerate(labels):\n",
        "    if eng_man_dataframe['label'].iloc[i] == label_name:\n",
        "      label_ids.append(j)\n",
        "\n",
        "eng_man_dataframe['label_id'] = pd.Series(label_ids)"
      ]
    },
    {
      "cell_type": "code",
      "execution_count": null,
      "metadata": {
        "colab": {
          "base_uri": "https://localhost:8080/",
          "height": 423
        },
        "id": "JtMcnfNT6Lw1",
        "outputId": "2ada1ad0-74cd-4345-d7ed-92a65a7ae0b5"
      },
      "outputs": [
        {
          "data": {
            "text/html": [
              "\n",
              "  <div id=\"df-094feabf-4ca2-4ee1-9d2a-5f3ea29929a8\">\n",
              "    <div class=\"colab-df-container\">\n",
              "      <div>\n",
              "<style scoped>\n",
              "    .dataframe tbody tr th:only-of-type {\n",
              "        vertical-align: middle;\n",
              "    }\n",
              "\n",
              "    .dataframe tbody tr th {\n",
              "        vertical-align: top;\n",
              "    }\n",
              "\n",
              "    .dataframe thead th {\n",
              "        text-align: right;\n",
              "    }\n",
              "</style>\n",
              "<table border=\"1\" class=\"dataframe\">\n",
              "  <thead>\n",
              "    <tr style=\"text-align: right;\">\n",
              "      <th></th>\n",
              "      <th>manipulation</th>\n",
              "      <th>label</th>\n",
              "      <th>label_id</th>\n",
              "    </tr>\n",
              "  </thead>\n",
              "  <tbody>\n",
              "    <tr>\n",
              "      <th>0</th>\n",
              "      <td>Make America Great Again)</td>\n",
              "      <td>Slogans</td>\n",
              "      <td>0</td>\n",
              "    </tr>\n",
              "    <tr>\n",
              "      <th>1</th>\n",
              "      <td>Make American Great Again”</td>\n",
              "      <td>Slogans</td>\n",
              "      <td>0</td>\n",
              "    </tr>\n",
              "    <tr>\n",
              "      <th>2</th>\n",
              "      <td>tch ass motherf**ker.”\\n</td>\n",
              "      <td>Loaded_Language</td>\n",
              "      <td>1</td>\n",
              "    </tr>\n",
              "    <tr>\n",
              "      <th>3</th>\n",
              "      <td>ump supporter’s f</td>\n",
              "      <td>Repetition</td>\n",
              "      <td>2</td>\n",
              "    </tr>\n",
              "    <tr>\n",
              "      <th>4</th>\n",
              "      <td>MAGA</td>\n",
              "      <td>Slogans</td>\n",
              "      <td>0</td>\n",
              "    </tr>\n",
              "    <tr>\n",
              "      <th>...</th>\n",
              "      <td>...</td>\n",
              "      <td>...</td>\n",
              "      <td>...</td>\n",
              "    </tr>\n",
              "    <tr>\n",
              "      <th>5109</th>\n",
              "      <td>the CIA steadfastly kept secret from the Ameri...</td>\n",
              "      <td>Flag-Waving</td>\n",
              "      <td>5</td>\n",
              "    </tr>\n",
              "    <tr>\n",
              "      <th>5110</th>\n",
              "      <td>Every American owes it to himself to read that...</td>\n",
              "      <td>Flag-Waving</td>\n",
              "      <td>5</td>\n",
              "    </tr>\n",
              "    <tr>\n",
              "      <th>5111</th>\n",
              "      <td>to keep some of the CIA’s decades-old JFK’s re...</td>\n",
              "      <td>Flag-Waving</td>\n",
              "      <td>5</td>\n",
              "    </tr>\n",
              "    <tr>\n",
              "      <th>5112</th>\n",
              "      <td>lone nut former U.S. Marine communist,</td>\n",
              "      <td>Name_Calling,Labeling</td>\n",
              "      <td>3</td>\n",
              "    </tr>\n",
              "    <tr>\n",
              "      <th>5113</th>\n",
              "      <td>That would enable the CIA to blame the assassi...</td>\n",
              "      <td>Reductio_ad_hitlerum</td>\n",
              "      <td>9</td>\n",
              "    </tr>\n",
              "  </tbody>\n",
              "</table>\n",
              "<p>5114 rows × 3 columns</p>\n",
              "</div>\n",
              "      <button class=\"colab-df-convert\" onclick=\"convertToInteractive('df-094feabf-4ca2-4ee1-9d2a-5f3ea29929a8')\"\n",
              "              title=\"Convert this dataframe to an interactive table.\"\n",
              "              style=\"display:none;\">\n",
              "        \n",
              "  <svg xmlns=\"http://www.w3.org/2000/svg\" height=\"24px\"viewBox=\"0 0 24 24\"\n",
              "       width=\"24px\">\n",
              "    <path d=\"M0 0h24v24H0V0z\" fill=\"none\"/>\n",
              "    <path d=\"M18.56 5.44l.94 2.06.94-2.06 2.06-.94-2.06-.94-.94-2.06-.94 2.06-2.06.94zm-11 1L8.5 8.5l.94-2.06 2.06-.94-2.06-.94L8.5 2.5l-.94 2.06-2.06.94zm10 10l.94 2.06.94-2.06 2.06-.94-2.06-.94-.94-2.06-.94 2.06-2.06.94z\"/><path d=\"M17.41 7.96l-1.37-1.37c-.4-.4-.92-.59-1.43-.59-.52 0-1.04.2-1.43.59L10.3 9.45l-7.72 7.72c-.78.78-.78 2.05 0 2.83L4 21.41c.39.39.9.59 1.41.59.51 0 1.02-.2 1.41-.59l7.78-7.78 2.81-2.81c.8-.78.8-2.07 0-2.86zM5.41 20L4 18.59l7.72-7.72 1.47 1.35L5.41 20z\"/>\n",
              "  </svg>\n",
              "      </button>\n",
              "      \n",
              "  <style>\n",
              "    .colab-df-container {\n",
              "      display:flex;\n",
              "      flex-wrap:wrap;\n",
              "      gap: 12px;\n",
              "    }\n",
              "\n",
              "    .colab-df-convert {\n",
              "      background-color: #E8F0FE;\n",
              "      border: none;\n",
              "      border-radius: 50%;\n",
              "      cursor: pointer;\n",
              "      display: none;\n",
              "      fill: #1967D2;\n",
              "      height: 32px;\n",
              "      padding: 0 0 0 0;\n",
              "      width: 32px;\n",
              "    }\n",
              "\n",
              "    .colab-df-convert:hover {\n",
              "      background-color: #E2EBFA;\n",
              "      box-shadow: 0px 1px 2px rgba(60, 64, 67, 0.3), 0px 1px 3px 1px rgba(60, 64, 67, 0.15);\n",
              "      fill: #174EA6;\n",
              "    }\n",
              "\n",
              "    [theme=dark] .colab-df-convert {\n",
              "      background-color: #3B4455;\n",
              "      fill: #D2E3FC;\n",
              "    }\n",
              "\n",
              "    [theme=dark] .colab-df-convert:hover {\n",
              "      background-color: #434B5C;\n",
              "      box-shadow: 0px 1px 3px 1px rgba(0, 0, 0, 0.15);\n",
              "      filter: drop-shadow(0px 1px 2px rgba(0, 0, 0, 0.3));\n",
              "      fill: #FFFFFF;\n",
              "    }\n",
              "  </style>\n",
              "\n",
              "      <script>\n",
              "        const buttonEl =\n",
              "          document.querySelector('#df-094feabf-4ca2-4ee1-9d2a-5f3ea29929a8 button.colab-df-convert');\n",
              "        buttonEl.style.display =\n",
              "          google.colab.kernel.accessAllowed ? 'block' : 'none';\n",
              "\n",
              "        async function convertToInteractive(key) {\n",
              "          const element = document.querySelector('#df-094feabf-4ca2-4ee1-9d2a-5f3ea29929a8');\n",
              "          const dataTable =\n",
              "            await google.colab.kernel.invokeFunction('convertToInteractive',\n",
              "                                                     [key], {});\n",
              "          if (!dataTable) return;\n",
              "\n",
              "          const docLinkHtml = 'Like what you see? Visit the ' +\n",
              "            '<a target=\"_blank\" href=https://colab.research.google.com/notebooks/data_table.ipynb>data table notebook</a>'\n",
              "            + ' to learn more about interactive tables.';\n",
              "          element.innerHTML = '';\n",
              "          dataTable['output_type'] = 'display_data';\n",
              "          await google.colab.output.renderOutput(dataTable, element);\n",
              "          const docLink = document.createElement('div');\n",
              "          docLink.innerHTML = docLinkHtml;\n",
              "          element.appendChild(docLink);\n",
              "        }\n",
              "      </script>\n",
              "    </div>\n",
              "  </div>\n",
              "  "
            ],
            "text/plain": [
              "                                           manipulation  \\\n",
              "0                             Make America Great Again)   \n",
              "1                            Make American Great Again”   \n",
              "2                              tch ass motherf**ker.”\\n   \n",
              "3                                     ump supporter’s f   \n",
              "4                                                 MAGA    \n",
              "...                                                 ...   \n",
              "5109  the CIA steadfastly kept secret from the Ameri...   \n",
              "5110  Every American owes it to himself to read that...   \n",
              "5111  to keep some of the CIA’s decades-old JFK’s re...   \n",
              "5112             lone nut former U.S. Marine communist,   \n",
              "5113  That would enable the CIA to blame the assassi...   \n",
              "\n",
              "                      label  label_id  \n",
              "0                   Slogans         0  \n",
              "1                   Slogans         0  \n",
              "2           Loaded_Language         1  \n",
              "3                Repetition         2  \n",
              "4                   Slogans         0  \n",
              "...                     ...       ...  \n",
              "5109            Flag-Waving         5  \n",
              "5110            Flag-Waving         5  \n",
              "5111            Flag-Waving         5  \n",
              "5112  Name_Calling,Labeling         3  \n",
              "5113   Reductio_ad_hitlerum         9  \n",
              "\n",
              "[5114 rows x 3 columns]"
            ]
          },
          "execution_count": 18,
          "metadata": {},
          "output_type": "execute_result"
        }
      ],
      "source": [
        "eng_man_dataframe"
      ]
    },
    {
      "cell_type": "markdown",
      "metadata": {
        "id": "2HyEu0VPNI_w"
      },
      "source": [
        "##Dataset"
      ]
    },
    {
      "cell_type": "code",
      "execution_count": null,
      "metadata": {
        "id": "jbAe--rlLMzp"
      },
      "outputs": [],
      "source": [
        "train_data, val_data = train_test_split(man_dataframe[['manipulation','label_id']], test_size=0.2, shuffle=True)"
      ]
    },
    {
      "cell_type": "code",
      "execution_count": null,
      "metadata": {
        "id": "b0Tg0Gb-OTq1"
      },
      "outputs": [],
      "source": [
        "tokenizer = BertTokenizer.from_pretrained(\"cointegrated/rubert-base-cased-nli-twoway\")"
      ]
    },
    {
      "cell_type": "code",
      "execution_count": null,
      "metadata": {
        "id": "196oiaX3Nx5z"
      },
      "outputs": [],
      "source": [
        "encod_text_train = tokenizer.batch_encode_plus(train_data['manipulation'], return_tensors='pt', truncation=True, padding = 'max_length', max_length = 50)\n",
        "encod_text_val = tokenizer.batch_encode_plus(val_data['manipulation'], return_tensors='pt', truncation=True, padding = 'max_length', max_length = 50)"
      ]
    },
    {
      "cell_type": "code",
      "execution_count": null,
      "metadata": {
        "id": "8WMVQ5NtOb7x"
      },
      "outputs": [],
      "source": [
        "labels_train = torch.tensor((train_data['label_id'].values))\n",
        "labels_val = torch.tensor((val_data['label_id'].values))"
      ]
    },
    {
      "cell_type": "code",
      "execution_count": null,
      "metadata": {
        "id": "usamFh82OvG3"
      },
      "outputs": [],
      "source": [
        "train_seq = encod_text_train['input_ids']\n",
        "train_mask = encod_text_train['attention_mask']\n",
        "\n",
        "val_seq = encod_text_val['input_ids']\n",
        "val_mask = encod_text_val['attention_mask']"
      ]
    },
    {
      "cell_type": "code",
      "execution_count": null,
      "metadata": {
        "colab": {
          "base_uri": "https://localhost:8080/"
        },
        "id": "fm8I4rPyPoyR",
        "outputId": "2a1c0368-2a6a-4e15-bdcb-595cb309c245"
      },
      "outputs": [
        {
          "data": {
            "text/plain": [
              "torch.Size([7836, 50])"
            ]
          },
          "execution_count": 176,
          "metadata": {},
          "output_type": "execute_result"
        }
      ],
      "source": [
        "train_seq.shape"
      ]
    },
    {
      "cell_type": "code",
      "execution_count": null,
      "metadata": {
        "id": "xySw4tPwPq8E"
      },
      "outputs": [],
      "source": [
        "train_data = TensorDataset(train_seq, train_mask, labels_train)\n",
        "train_sampler = RandomSampler(train_data)\n",
        "train_dataloader = DataLoader(train_data, sampler = train_sampler, batch_size = 200)\n",
        "\n",
        "val_data = TensorDataset(val_seq, val_mask, labels_val)\n",
        "val_sampler = RandomSampler(val_data)\n",
        "val_dataloader = DataLoader(val_data, sampler = val_sampler, batch_size = 200)"
      ]
    },
    {
      "cell_type": "markdown",
      "metadata": {
        "id": "IbXpULz3QMsN"
      },
      "source": [
        "##Model"
      ]
    },
    {
      "cell_type": "code",
      "execution_count": null,
      "metadata": {
        "id": "RmPTYlvmQWX_"
      },
      "outputs": [],
      "source": [
        "import torch, torch.nn as nn"
      ]
    },
    {
      "cell_type": "code",
      "execution_count": null,
      "metadata": {
        "colab": {
          "base_uri": "https://localhost:8080/"
        },
        "id": "wuBVJH59QE8e",
        "outputId": "f62b69a8-f93d-47a9-87c1-4bfa509e9d0f"
      },
      "outputs": [
        {
          "name": "stderr",
          "output_type": "stream",
          "text": [
            "Some weights of the model checkpoint at cointegrated/rubert-base-cased-nli-twoway were not used when initializing BertModel: ['classifier.weight', 'classifier.bias']\n",
            "- This IS expected if you are initializing BertModel from the checkpoint of a model trained on another task or with another architecture (e.g. initializing a BertForSequenceClassification model from a BertForPreTraining model).\n",
            "- This IS NOT expected if you are initializing BertModel from the checkpoint of a model that you expect to be exactly identical (initializing a BertForSequenceClassification model from a BertForSequenceClassification model).\n"
          ]
        }
      ],
      "source": [
        "from transformers import AutoModel\n",
        "bert = AutoModel.from_pretrained(\"cointegrated/rubert-base-cased-nli-twoway\")"
      ]
    },
    {
      "cell_type": "code",
      "execution_count": null,
      "metadata": {
        "id": "Q5oSzpmnkHyT"
      },
      "outputs": [],
      "source": [
        "for param in bert.parameters():\n",
        " param.requires_grad = False"
      ]
    },
    {
      "cell_type": "code",
      "execution_count": null,
      "metadata": {
        "id": "3pylBNEuQOIe"
      },
      "outputs": [],
      "source": [
        "class rubert_cls(nn.Module):\n",
        "    \n",
        "    def __init__(self, bert):\n",
        "        super(rubert_cls, self).__init__()\n",
        "        self.bert = bert\n",
        "        self.drop1 = nn.Dropout(0.3)\n",
        "        self.relu1 = nn.LeakyReLU()\n",
        "        self.relu2 = nn.LeakyReLU()\n",
        "        self.relu3 = nn.LeakyReLU()\n",
        "        self.sig = nn.Sigmoid()\n",
        "        self.fc1 = nn.Linear(768,150)\n",
        "        self.fc2 = nn.Linear(150,18)\n",
        "    \n",
        "    def forward(self, sent_id, mask):\n",
        "        _, bert_out = self.bert(sent_id, attention_mask = mask, return_dict = False)\n",
        "        x = self.relu1(bert_out)\n",
        "        x = self.drop1(x)\n",
        "        x = self.relu2(x)\n",
        "        x = self.fc1(x)\n",
        "        x = self.relu3(x)\n",
        "        x = self.fc2(x)\n",
        "        return x"
      ]
    },
    {
      "cell_type": "code",
      "execution_count": null,
      "metadata": {
        "id": "OhY6LFKuQqih"
      },
      "outputs": [],
      "source": [
        "device = torch.device(\"cuda\" if torch.cuda.is_available() else \"cpu\")\n",
        "model = rubert_cls(bert)\n",
        "model.load_state_dict(torch.load('/content/drive/MyDrive/manipulation_cls18_2fc_engdata.pt'))\n",
        "model = model.to(device)"
      ]
    },
    {
      "cell_type": "markdown",
      "metadata": {
        "id": "WJXwNJHURQo-"
      },
      "source": [
        "##Training"
      ]
    },
    {
      "cell_type": "code",
      "execution_count": null,
      "metadata": {
        "colab": {
          "background_save": true
        },
        "id": "Ua5XG28GRHjL"
      },
      "outputs": [],
      "source": [
        "optimizer = torch.optim.Adam(model.parameters(),\n",
        "                 lr = 1e-2)"
      ]
    },
    {
      "cell_type": "code",
      "execution_count": null,
      "metadata": {
        "id": "nPbEekItKxJe"
      },
      "outputs": [],
      "source": [
        "#sc=torch.tensor(big_class_weights).to(device)"
      ]
    },
    {
      "cell_type": "code",
      "execution_count": null,
      "metadata": {
        "id": "2c5AfmnKRMPn"
      },
      "outputs": [],
      "source": [
        "loss_f = nn.CrossEntropyLoss()"
      ]
    },
    {
      "cell_type": "code",
      "execution_count": null,
      "metadata": {
        "id": "XQo_zEMHRUIB"
      },
      "outputs": [],
      "source": [
        "def train():\n",
        "    model.train()\n",
        "    total_loss, total_accuracy = 0, 0\n",
        "    total_preds = []\n",
        "    \n",
        "    for step, batch in tqdm(enumerate(train_dataloader), total = len(train_dataloader)):\n",
        "        batch = [r.to(device) for r in batch]\n",
        "        sent_id,mask,labels = batch\n",
        "        model.zero_grad()\n",
        "        preds = model(sent_id, mask)\n",
        "        loss = loss_f(preds, labels)\n",
        "        total_loss += loss.item()\n",
        "        loss.backward()\n",
        "        optimizer.step()\n",
        "        preds = preds.detach().cpu().numpy()\n",
        "        total_preds.append(preds)\n",
        "        \n",
        "    avg_loss = total_loss / len(train_dataloader)\n",
        "    total_preds = np.concatenate(total_preds, axis = 0)\n",
        "    \n",
        "    return avg_loss, total_preds"
      ]
    },
    {
      "cell_type": "code",
      "execution_count": null,
      "metadata": {
        "id": "aLfUmNlGWJLa"
      },
      "outputs": [],
      "source": [
        "def evaluate():\n",
        "    model.eval()\n",
        "    total_loss, total_accuracy = 0,0\n",
        "    total_preds = []\n",
        "    total_labels = []\n",
        "    correct = 0\n",
        "    for step, batch in tqdm(enumerate(val_dataloader), total = len(val_dataloader)):\n",
        "        batch = [t.to(device) for t in batch]\n",
        "        sent_id, mask, labels = batch\n",
        "        \n",
        "        with torch.no_grad():\n",
        "            preds = model(sent_id, mask)\n",
        "            _, preds_label = torch.max(preds, 1)\n",
        "            \n",
        "            correct += (preds_label == labels).sum().item()\n",
        "            \n",
        "            loss = loss_f(preds, labels)\n",
        "            total_loss = total_loss + loss.item()\n",
        "            preds = preds.detach().cpu().numpy()\n",
        "            total_preds.append(preds)\n",
        "            total_labels.append(labels.detach().cpu().numpy())\n",
        "    avg_loss = total_loss / len(val_dataloader)\n",
        "    total_preds = np.concatenate(total_preds, axis = 0)\n",
        "\n",
        "    return avg_loss, total_preds, total_labels"
      ]
    },
    {
      "cell_type": "code",
      "execution_count": null,
      "metadata": {
        "id": "yrKb8XwRWMA7"
      },
      "outputs": [],
      "source": [
        "#train_losses=[]\n",
        "#valid_losses=[]"
      ]
    },
    {
      "cell_type": "code",
      "execution_count": null,
      "metadata": {
        "colab": {
          "base_uri": "https://localhost:8080/"
        },
        "id": "9ED3wiZVWPaY",
        "outputId": "3457276c-d259-47e5-bc64-5c325ffbad65"
      },
      "outputs": [
        {
          "name": "stdout",
          "output_type": "stream",
          "text": [
            "\n",
            " Epoch1 / 5\n"
          ]
        },
        {
          "name": "stderr",
          "output_type": "stream",
          "text": [
            "100%|██████████| 40/40 [00:20<00:00,  1.92it/s]\n",
            "100%|██████████| 10/10 [00:05<00:00,  1.88it/s]\n"
          ]
        },
        {
          "name": "stdout",
          "output_type": "stream",
          "text": [
            "\n",
            "Training loss: 5.113\n",
            "Validation loss: 3.226\n",
            "\n",
            " Epoch2 / 5\n"
          ]
        },
        {
          "name": "stderr",
          "output_type": "stream",
          "text": [
            "100%|██████████| 40/40 [00:20<00:00,  1.91it/s]\n",
            "100%|██████████| 10/10 [00:05<00:00,  1.99it/s]\n"
          ]
        },
        {
          "name": "stdout",
          "output_type": "stream",
          "text": [
            "\n",
            "Training loss: 3.703\n",
            "Validation loss: 3.149\n",
            "\n",
            " Epoch3 / 5\n"
          ]
        },
        {
          "name": "stderr",
          "output_type": "stream",
          "text": [
            "100%|██████████| 40/40 [00:20<00:00,  1.98it/s]\n",
            "100%|██████████| 10/10 [00:04<00:00,  2.02it/s]\n"
          ]
        },
        {
          "name": "stdout",
          "output_type": "stream",
          "text": [
            "\n",
            "Training loss: 3.594\n",
            "Validation loss: 2.990\n",
            "\n",
            " Epoch4 / 5\n"
          ]
        },
        {
          "name": "stderr",
          "output_type": "stream",
          "text": [
            "100%|██████████| 40/40 [00:20<00:00,  1.98it/s]\n",
            "100%|██████████| 10/10 [00:05<00:00,  1.99it/s]\n"
          ]
        },
        {
          "name": "stdout",
          "output_type": "stream",
          "text": [
            "\n",
            "Training loss: 3.582\n",
            "Validation loss: 2.988\n",
            "\n",
            " Epoch5 / 5\n"
          ]
        },
        {
          "name": "stderr",
          "output_type": "stream",
          "text": [
            "100%|██████████| 40/40 [00:20<00:00,  1.95it/s]\n",
            "100%|██████████| 10/10 [00:05<00:00,  1.98it/s]"
          ]
        },
        {
          "name": "stdout",
          "output_type": "stream",
          "text": [
            "\n",
            "Training loss: 3.461\n",
            "Validation loss: 3.074\n"
          ]
        },
        {
          "name": "stderr",
          "output_type": "stream",
          "text": [
            "\n"
          ]
        }
      ],
      "source": [
        "epochs = 5\n",
        "for epoch in range(epochs):\n",
        "    print('\\n Epoch{:} / {:}'.format(epoch+1, epochs))\n",
        "    \n",
        "    train_loss, _ = train()\n",
        "    valid_loss, preds, labels = evaluate()\n",
        "    preds = torch.tensor(preds)\n",
        "    _, val_idx = torch.max(preds, 1)\n",
        "    lablz = []\n",
        "    for arr in labels:\n",
        "      for a in arr:\n",
        "        lablz.append(a)\n",
        "\n",
        "    #if valid_loss < best_valid_loss:\n",
        "       # best_valid_loss = valid_loss\n",
        "        #torch.save(model.state_dict(), f'/content/drive/MyDrive/atemp_100f1_dip.pt') \n",
        "    \n",
        "    train_losses.append(train_loss)\n",
        "    valid_losses.append(valid_loss)\n",
        "    #f_1.append(f1_score(val_idx, lablz))\n",
        "    print(f'\\nTraining loss: {train_loss:.3f}')\n",
        "    print(f'Validation loss: {valid_loss:.3f}')\n",
        "    #print('acc = ', accuracy_score(val_idx, lablz))\n",
        "    #print('rec = ', recall_score(val_idx, lablz))\n",
        "    #print('pr = ', precision_score(val_idx, lablz))\n",
        "    #print('f1 = ', f1_score(val_idx, lablz))"
      ]
    },
    {
      "cell_type": "code",
      "execution_count": null,
      "metadata": {
        "colab": {
          "base_uri": "https://localhost:8080/",
          "height": 448
        },
        "id": "qQHFWBf_XFrt",
        "outputId": "3213908d-24ed-45ae-93bf-ecc32d349eff"
      },
      "outputs": [
        {
          "data": {
            "text/plain": [
              "[<matplotlib.lines.Line2D at 0x7f8340795870>]"
            ]
          },
          "execution_count": 396,
          "metadata": {},
          "output_type": "execute_result"
        },
        {
          "data": {
            "image/png": "[encoded data removed]",
            "text/plain": [
              "<Figure size 640x480 with 1 Axes>"
            ]
          },
          "metadata": {},
          "output_type": "display_data"
        }
      ],
      "source": [
        "plt.plot(train_losses)\n",
        "plt.plot(valid_losses)"
      ]
    },
    {
      "cell_type": "markdown",
      "metadata": {
        "id": "2bTUNe6plHpa"
      },
      "source": [
        "##Test\n"
      ]
    },
    {
      "cell_type": "code",
      "execution_count": null,
      "metadata": {
        "colab": {
          "background_save": true
        },
        "id": "NQbNRNOGbEi3"
      },
      "outputs": [],
      "source": [
        "def testing():\n",
        "    model.eval()\n",
        "    total_loss, total_accuracy = 0,0\n",
        "    total_preds = []\n",
        "    total_labels = []\n",
        "    correct = 0\n",
        "    for step, batch in tqdm(enumerate(val_dataloader), total = len(val_dataloader)):\n",
        "        batch = [t.to(device) for t in batch]\n",
        "        sent_id, mask, labels = batch\n",
        "        \n",
        "        with torch.no_grad():\n",
        "            preds = model(sent_id, mask)\n",
        "            _, preds_label = torch.max(preds, 1)\n",
        "            \n",
        "            preds = preds.detach().cpu().numpy()\n",
        "            total_preds.append(preds)\n",
        "            total_labels.append(labels.detach().cpu().numpy())\n",
        "    total_preds = np.concatenate(total_preds, axis = 0)\n",
        "\n",
        "    return total_preds, total_labels"
      ]
    },
    {
      "cell_type": "code",
      "execution_count": null,
      "metadata": {
        "colab": {
          "base_uri": "https://localhost:8080/"
        },
        "id": "cOPpamlqlgSX",
        "outputId": "0e4ab37a-76ab-4e3d-f5d0-1856b90eadd1"
      },
      "outputs": [
        {
          "name": "stderr",
          "output_type": "stream",
          "text": [
            "100%|██████████| 10/10 [00:05<00:00,  1.99it/s]\n"
          ]
        }
      ],
      "source": [
        "pred_test, labl = testing()\n",
        "pred_test = torch.tensor(pred_test)\n",
        "_, test_idx = torch.max(pred_test, 1)"
      ]
    },
    {
      "cell_type": "code",
      "execution_count": null,
      "metadata": {
        "id": "apq9gjoYll8U"
      },
      "outputs": [],
      "source": [
        "lablz = []\n",
        "for arr in labl:\n",
        "  for a in arr:\n",
        "    lablz.append(a)"
      ]
    },
    {
      "cell_type": "code",
      "execution_count": null,
      "metadata": {
        "id": "H1qcbKoelm5k"
      },
      "outputs": [],
      "source": [
        "from sklearn.metrics import accuracy_score, recall_score, precision_score"
      ]
    },
    {
      "cell_type": "code",
      "execution_count": null,
      "metadata": {
        "id": "GGVQeOv0ly9Y"
      },
      "outputs": [],
      "source": [
        "acc = accuracy_score(test_idx, lablz)\n",
        "rec = recall_score(test_idx, lablz, average = 'micro')\n",
        "pr = precision_score(test_idx, lablz, average = 'micro')"
      ]
    },
    {
      "cell_type": "code",
      "execution_count": null,
      "metadata": {
        "colab": {
          "base_uri": "https://localhost:8080/"
        },
        "id": "Xko_wo2hl1zl",
        "outputId": "c295d59e-3291-40af-fed3-860ecc44ebca"
      },
      "outputs": [
        {
          "name": "stdout",
          "output_type": "stream",
          "text": [
            "0.28024502297090353\n",
            "0.28024502297090353\n",
            "0.28024502297090353\n"
          ]
        }
      ],
      "source": [
        "print(acc)\n",
        "print(rec)\n",
        "print(pr)"
      ]
    }
  ],
  "metadata": {
    "colab": {
      "provenance": [],
      "gpuType": "T4"
    },
    "gpuClass": "standard",
    "kernelspec": {
      "display_name": "Python 3",
      "name": "python3"
    },
    "language_info": {
      "name": "python"
    }
  },
  "nbformat": 4,
  "nbformat_minor": 0
}